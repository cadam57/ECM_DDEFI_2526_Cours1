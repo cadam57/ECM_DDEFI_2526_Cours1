{
  "nbformat": 4,
  "nbformat_minor": 0,
  "metadata": {
    "colab": {
      "provenance": [],
      "authorship_tag": "ABX9TyOKQZh8UnVa9HRnv67wDoks",
      "include_colab_link": true
    },
    "kernelspec": {
      "name": "python3",
      "display_name": "Python 3"
    },
    "language_info": {
      "name": "python"
    }
  },
  "cells": [
    {
      "cell_type": "markdown",
      "metadata": {
        "id": "view-in-github",
        "colab_type": "text"
      },
      "source": [
        "<a href=\"https://colab.research.google.com/github/cadam57/ECM_DDEFI_2526_Cours1/blob/main/mon%20premier%20notebook.ipynb\" target=\"_parent\"><img src=\"https://colab.research.google.com/assets/colab-badge.svg\" alt=\"Open In Colab\"/></a>"
      ]
    },
    {
      "cell_type": "markdown",
      "source": [],
      "metadata": {
        "id": "vHJKZ6wtNA6A"
      }
    },
    {
      "cell_type": "code",
      "execution_count": 5,
      "metadata": {
        "colab": {
          "base_uri": "https://localhost:8080/"
        },
        "id": "lXWE6CmpMU53",
        "outputId": "32539b8a-3c39-4e28-c717-8e38029dfa9f"
      },
      "outputs": [
        {
          "output_type": "stream",
          "name": "stdout",
          "text": [
            "écris ce qui te vient à l'esprit : garbage collector\n",
            "garbage collector\n"
          ]
        }
      ],
      "source": [
        "#première fonction de python\n",
        "print (input(\"écris ce qui te vient à l'esprit : \"))\n"
      ]
    },
    {
      "cell_type": "code",
      "source": [
        "!ls\n"
      ],
      "metadata": {
        "colab": {
          "base_uri": "https://localhost:8080/"
        },
        "id": "B_Y8Qz8NOAgV",
        "outputId": "c18f63e6-1adf-4841-d281-9f66c7265e89"
      },
      "execution_count": 4,
      "outputs": [
        {
          "output_type": "stream",
          "name": "stdout",
          "text": [
            "sample_data\n"
          ]
        }
      ]
    },
    {
      "cell_type": "code",
      "source": [
        "\n",
        "#variables\n",
        "a=\"alice\" #data type is string\n",
        "height=1.85 #data type is num\n",
        "is_student=True #data type is bolean\n",
        "height #affiche la valeur de la variable"
      ],
      "metadata": {
        "colab": {
          "base_uri": "https://localhost:8080/"
        },
        "id": "dCY5wK34Py1Y",
        "outputId": "91a4d53e-2d66-47f0-bb13-1c2a97940fac"
      },
      "execution_count": 6,
      "outputs": [
        {
          "output_type": "execute_result",
          "data": {
            "text/plain": [
              "1.85"
            ]
          },
          "metadata": {},
          "execution_count": 6
        }
      ]
    },
    {
      "cell_type": "code",
      "source": [
        "#fonction printf (que depuis la maj)\n",
        "print(f\"{a} fait {height} en mètres, et est une étudiante {is_student}\")"
      ],
      "metadata": {
        "colab": {
          "base_uri": "https://localhost:8080/"
        },
        "id": "m8yoKTjOQQmg",
        "outputId": "20bf39aa-11af-4e17-9665-b2584866c35d"
      },
      "execution_count": 12,
      "outputs": [
        {
          "output_type": "stream",
          "name": "stdout",
          "text": [
            "alice fait 1.85 en mètres, et est une étudiante True\n"
          ]
        }
      ]
    },
    {
      "cell_type": "code",
      "source": [
        "!pip install numpy"
      ],
      "metadata": {
        "colab": {
          "base_uri": "https://localhost:8080/"
        },
        "id": "sp63IHO9RAOT",
        "outputId": "cd2ea7e4-cf38-4d33-aa10-aaf720a56b57"
      },
      "execution_count": 11,
      "outputs": [
        {
          "output_type": "stream",
          "name": "stdout",
          "text": [
            "Requirement already satisfied: numpy in /usr/local/lib/python3.12/dist-packages (2.0.2)\n"
          ]
        }
      ]
    }
  ]
}